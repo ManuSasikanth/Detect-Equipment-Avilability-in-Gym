{
 "cells": [
  {
   "cell_type": "code",
   "execution_count": null,
   "metadata": {},
   "outputs": [],
   "source": [
    "import cv2\n",
    "import numpy as np\n",
    "import tensorflow as tf\n",
    "from tensorflow.keras.preprocessing.image import img_to_array"
   ]
  },
  {
   "cell_type": "code",
   "execution_count": null,
   "metadata": {},
   "outputs": [],
   "source": [
    "model = tf.keras.models.load_model('model.h5')\n",
    "classes = ['IN-USE-LEG-EXTENSION','IN-USE-PEC-FLY','NOT-IN-USE-LEG-EXTENSION','NOT-IN-USE-PEC-FLY']\n",
    "classes"
   ]
  },
  {
   "cell_type": "code",
   "execution_count": null,
   "metadata": {},
   "outputs": [],
   "source": [
    "def preprocess_frame(frame):\n",
    "    frame = cv2.cvtColor(frame, cv2.COLOR_BGR2GRAY)\n",
    "    frame = cv2.resize(frame, (128, 128))\n",
    "    frame = img_to_array(frame)\n",
    "    frame = np.expand_dims(frame, axis=0)\n",
    "    frame = frame / 255.0\n",
    "    return frame\n"
   ]
  },
  {
   "cell_type": "code",
   "execution_count": null,
   "metadata": {},
   "outputs": [],
   "source": [
    "def predict_frame(frame, model, video_num):\n",
    "    prediction = model.predict(frame)\n",
    "    predicted_class = classes[np.argmax(prediction)]\n",
    "    \n",
    "    if video_num == 'Video 1':\n",
    "        if predicted_class == 'NOT-IN-USE-LEG-EXTENSION':\n",
    "            return 'not in use'\n",
    "        else:\n",
    "            return 'in use'\n",
    "    elif video_num == 'Video 2':\n",
    "        if predicted_class == 'NOT-IN-USE-PEC-FLY':\n",
    "            return 'not in use'\n",
    "        else:\n",
    "            return 'in use'\n",
    "    else:\n",
    "        return predicted_class"
   ]
  },
  {
   "cell_type": "code",
   "execution_count": null,
   "metadata": {},
   "outputs": [],
   "source": [
    "vid1 = cv2.VideoCapture('D:/MY_FILES/futura/ml/project/pj-DL/video/2024-07-06 21.53.16.mov')\n",
    "vid2 = cv2.VideoCapture('D:/MY_FILES/futura/ml/project/pj-DL/video/2024-07-06 22.11.52.mov')\n",
    "\n",
    "if not vid1.isOpened() or not vid2.isOpened():\n",
    "    print(\"Error: Could not open one of the videos.\")\n",
    "    exit()\n",
    "\n",
    "while vid1.isOpened() and vid2.isOpened():\n",
    "    ret1, frame1 = vid1.read()\n",
    "    ret2, frame2 = vid2.read()\n",
    "\n",
    "    if not ret1 or not ret2:\n",
    "        break\n",
    "\n",
    "    predicted_vid1 = predict_frame(preprocess_frame(frame1), model, 'Video 1')\n",
    "    predicted_vid2 = predict_frame(preprocess_frame(frame2), model, 'Video 2')\n",
    "\n",
    "    frame1 = cv2.resize(frame1, (640, 480))\n",
    "    frame2 = cv2.resize(frame2, (640, 480))\n",
    " \n",
    "    log_table = np.zeros((100, 640, 3), dtype=np.uint8)\n",
    "    cv2.putText(log_table, f'LEG-EXTENSION: {predicted_vid1}', (10, 30), cv2.FONT_HERSHEY_SIMPLEX, 1, (255, 255, 255), 2)\n",
    "    cv2.putText(log_table, f'PEC-FLY: {predicted_vid2}', (10, 70), cv2.FONT_HERSHEY_SIMPLEX, 1, (255, 255, 255), 2)\n",
    "\n",
    "    cv2.imshow('LEG-EXTENSION', frame1)\n",
    "    cv2.imshow('PEC-FLY', frame2)\n",
    "    cv2.imshow('Predictions', log_table)\n",
    "\n",
    "    if cv2.waitKey(1) == ord('q'):\n",
    "        break\n",
    "\n",
    "vid1.release()\n",
    "vid2.release()\n",
    "cv2.destroyAllWindows()\n"
   ]
  },
  {
   "cell_type": "code",
   "execution_count": null,
   "metadata": {},
   "outputs": [],
   "source": []
  }
 ],
 "metadata": {
  "kernelspec": {
   "display_name": "gpu",
   "language": "python",
   "name": "python3"
  },
  "language_info": {
   "codemirror_mode": {
    "name": "ipython",
    "version": 3
   },
   "file_extension": ".py",
   "mimetype": "text/x-python",
   "name": "python",
   "nbconvert_exporter": "python",
   "pygments_lexer": "ipython3",
   "version": "3.11.9"
  }
 },
 "nbformat": 4,
 "nbformat_minor": 2
}
